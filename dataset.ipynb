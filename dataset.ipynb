{
 "cells": [
  {
   "cell_type": "markdown",
   "metadata": {
    "pycharm": {
     "name": "#%% md\n"
    }
   },
   "source": [
    "# Transfer Learning with MobileNetV3"
   ]
  },
  {
   "cell_type": "markdown",
   "metadata": {
    "pycharm": {
     "name": "#%% md\n"
    }
   },
   "source": [
    "<a name='1'></a>\n",
    "## 1 - Packages"
   ]
  },
  {
   "cell_type": "code",
   "execution_count": 2,
   "metadata": {
    "collapsed": false,
    "jupyter": {
     "outputs_hidden": false
    },
    "pycharm": {
     "name": "#%%\n"
    }
   },
   "outputs": [
    {
     "name": "stdout",
     "output_type": "stream",
     "text": [
      "Num GPUs Available:  1\n"
     ]
    }
   ],
   "source": [
    "import tensorflow as tf\n",
    "import tensorflow_datasets as tfds\n",
    "\n",
    "print(\"Num GPUs Available: \", len(tf.config.list_physical_devices('GPU')))"
   ]
  },
  {
   "cell_type": "markdown",
   "metadata": {
    "pycharm": {
     "name": "#%% md\n"
    }
   },
   "source": [
    "## MobileNetV3\n"
   ]
  },
  {
   "cell_type": "code",
   "execution_count": 3,
   "metadata": {
    "pycharm": {
     "name": "#%%\n"
    }
   },
   "outputs": [],
   "source": [
    "IMG_SIZE = (512, 512)\n",
    "IMG_SHAPE = IMG_SIZE + (3,)\n",
    "\n",
    "mobile_v3_model = tf.keras.applications.MobileNetV3Large(\n",
    "    input_shape=(512,512,3),\n",
    "    alpha=1.0,\n",
    "    minimalistic=False,\n",
    "    include_top=False,\n",
    "    weights=None,\n",
    "    input_tensor=None,\n",
    "    classes=1000,\n",
    "    pooling=None,\n",
    "    dropout_rate=0.2,\n",
    "    classifier_activation='softmax',\n",
    "    include_preprocessing=True\n",
    ")"
   ]
  },
  {
   "cell_type": "code",
   "execution_count": 4,
   "metadata": {
    "pycharm": {
     "name": "#%%\n"
    }
   },
   "outputs": [
    {
     "name": "stdout",
     "output_type": "stream",
     "text": [
      "Number of layers in the base model:  263\n"
     ]
    }
   ],
   "source": [
    "print(\"Number of layers in the base model: \", len(mobile_v3_model.layers))"
   ]
  },
  {
   "cell_type": "code",
   "execution_count": 5,
   "metadata": {
    "pycharm": {
     "name": "#%%\n"
    },
    "scrolled": true,
    "tags": []
   },
   "outputs": [
    {
     "name": "stdout",
     "output_type": "stream",
     "text": [
      "Model: \"MobilenetV3large\"\n",
      "__________________________________________________________________________________________________\n",
      " Layer (type)                   Output Shape         Param #     Connected to                     \n",
      "==================================================================================================\n",
      " input_1 (InputLayer)           [(None, 512, 512, 3  0           []                               \n",
      "                                )]                                                                \n",
      "                                                                                                  \n",
      " rescaling (Rescaling)          (None, 512, 512, 3)  0           ['input_1[0][0]']                \n",
      "                                                                                                  \n",
      " Conv (Conv2D)                  (None, 256, 256, 16  432         ['rescaling[0][0]']              \n",
      "                                )                                                                 \n",
      "                                                                                                  \n",
      " Conv/BatchNorm (BatchNormaliza  (None, 256, 256, 16  64         ['Conv[0][0]']                   \n",
      " tion)                          )                                                                 \n",
      "                                                                                                  \n",
      " tf.__operators__.add (TFOpLamb  (None, 256, 256, 16  0          ['Conv/BatchNorm[0][0]']         \n",
      " da)                            )                                                                 \n",
      "                                                                                                  \n",
      " re_lu (ReLU)                   (None, 256, 256, 16  0           ['tf.__operators__.add[0][0]']   \n",
      "                                )                                                                 \n",
      "                                                                                                  \n",
      " tf.math.multiply (TFOpLambda)  (None, 256, 256, 16  0           ['re_lu[0][0]']                  \n",
      "                                )                                                                 \n",
      "                                                                                                  \n",
      " multiply (Multiply)            (None, 256, 256, 16  0           ['Conv/BatchNorm[0][0]',         \n",
      "                                )                                 'tf.math.multiply[0][0]']       \n",
      "                                                                                                  \n",
      " expanded_conv/depthwise (Depth  (None, 256, 256, 16  144        ['multiply[0][0]']               \n",
      " wiseConv2D)                    )                                                                 \n",
      "                                                                                                  \n",
      " expanded_conv/depthwise/BatchN  (None, 256, 256, 16  64         ['expanded_conv/depthwise[0][0]']\n",
      " orm (BatchNormalization)       )                                                                 \n",
      "                                                                                                  \n",
      " re_lu_1 (ReLU)                 (None, 256, 256, 16  0           ['expanded_conv/depthwise/BatchNo\n",
      "                                )                                rm[0][0]']                       \n",
      "                                                                                                  \n",
      " expanded_conv/project (Conv2D)  (None, 256, 256, 16  256        ['re_lu_1[0][0]']                \n",
      "                                )                                                                 \n",
      "                                                                                                  \n",
      " expanded_conv/project/BatchNor  (None, 256, 256, 16  64         ['expanded_conv/project[0][0]']  \n",
      " m (BatchNormalization)         )                                                                 \n",
      "                                                                                                  \n",
      " expanded_conv/Add (Add)        (None, 256, 256, 16  0           ['multiply[0][0]',               \n",
      "                                )                                 'expanded_conv/project/BatchNorm\n",
      "                                                                 [0][0]']                         \n",
      "                                                                                                  \n",
      " expanded_conv_1/expand (Conv2D  (None, 256, 256, 64  1024       ['expanded_conv/Add[0][0]']      \n",
      " )                              )                                                                 \n",
      "                                                                                                  \n",
      " expanded_conv_1/expand/BatchNo  (None, 256, 256, 64  256        ['expanded_conv_1/expand[0][0]'] \n",
      " rm (BatchNormalization)        )                                                                 \n",
      "                                                                                                  \n",
      " re_lu_2 (ReLU)                 (None, 256, 256, 64  0           ['expanded_conv_1/expand/BatchNor\n",
      "                                )                                m[0][0]']                        \n",
      "                                                                                                  \n",
      " expanded_conv_1/depthwise/pad   (None, 257, 257, 64  0          ['re_lu_2[0][0]']                \n",
      " (ZeroPadding2D)                )                                                                 \n",
      "                                                                                                  \n",
      " expanded_conv_1/depthwise (Dep  (None, 128, 128, 64  576        ['expanded_conv_1/depthwise/pad[0\n",
      " thwiseConv2D)                  )                                ][0]']                           \n",
      "                                                                                                  \n",
      " expanded_conv_1/depthwise/Batc  (None, 128, 128, 64  256        ['expanded_conv_1/depthwise[0][0]\n",
      " hNorm (BatchNormalization)     )                                ']                               \n",
      "                                                                                                  \n",
      " re_lu_3 (ReLU)                 (None, 128, 128, 64  0           ['expanded_conv_1/depthwise/Batch\n",
      "                                )                                Norm[0][0]']                     \n",
      "                                                                                                  \n",
      " expanded_conv_1/project (Conv2  (None, 128, 128, 24  1536       ['re_lu_3[0][0]']                \n",
      " D)                             )                                                                 \n",
      "                                                                                                  \n",
      " expanded_conv_1/project/BatchN  (None, 128, 128, 24  96         ['expanded_conv_1/project[0][0]']\n",
      " orm (BatchNormalization)       )                                                                 \n",
      "                                                                                                  \n",
      " expanded_conv_2/expand (Conv2D  (None, 128, 128, 72  1728       ['expanded_conv_1/project/BatchNo\n",
      " )                              )                                rm[0][0]']                       \n",
      "                                                                                                  \n",
      " expanded_conv_2/expand/BatchNo  (None, 128, 128, 72  288        ['expanded_conv_2/expand[0][0]'] \n",
      " rm (BatchNormalization)        )                                                                 \n",
      "                                                                                                  \n",
      " re_lu_4 (ReLU)                 (None, 128, 128, 72  0           ['expanded_conv_2/expand/BatchNor\n",
      "                                )                                m[0][0]']                        \n",
      "                                                                                                  \n",
      " expanded_conv_2/depthwise (Dep  (None, 128, 128, 72  648        ['re_lu_4[0][0]']                \n",
      " thwiseConv2D)                  )                                                                 \n",
      "                                                                                                  \n",
      " expanded_conv_2/depthwise/Batc  (None, 128, 128, 72  288        ['expanded_conv_2/depthwise[0][0]\n",
      " hNorm (BatchNormalization)     )                                ']                               \n",
      "                                                                                                  \n",
      " re_lu_5 (ReLU)                 (None, 128, 128, 72  0           ['expanded_conv_2/depthwise/Batch\n",
      "                                )                                Norm[0][0]']                     \n",
      "                                                                                                  \n",
      " expanded_conv_2/project (Conv2  (None, 128, 128, 24  1728       ['re_lu_5[0][0]']                \n",
      " D)                             )                                                                 \n",
      "                                                                                                  \n",
      " expanded_conv_2/project/BatchN  (None, 128, 128, 24  96         ['expanded_conv_2/project[0][0]']\n",
      " orm (BatchNormalization)       )                                                                 \n",
      "                                                                                                  \n",
      " expanded_conv_2/Add (Add)      (None, 128, 128, 24  0           ['expanded_conv_1/project/BatchNo\n",
      "                                )                                rm[0][0]',                       \n",
      "                                                                  'expanded_conv_2/project/BatchNo\n",
      "                                                                 rm[0][0]']                       \n",
      "                                                                                                  \n",
      " expanded_conv_3/expand (Conv2D  (None, 128, 128, 72  1728       ['expanded_conv_2/Add[0][0]']    \n",
      " )                              )                                                                 \n",
      "                                                                                                  \n",
      " expanded_conv_3/expand/BatchNo  (None, 128, 128, 72  288        ['expanded_conv_3/expand[0][0]'] \n",
      " rm (BatchNormalization)        )                                                                 \n",
      "                                                                                                  \n",
      " re_lu_6 (ReLU)                 (None, 128, 128, 72  0           ['expanded_conv_3/expand/BatchNor\n",
      "                                )                                m[0][0]']                        \n",
      "                                                                                                  \n",
      " expanded_conv_3/depthwise/pad   (None, 131, 131, 72  0          ['re_lu_6[0][0]']                \n",
      " (ZeroPadding2D)                )                                                                 \n",
      "                                                                                                  \n",
      " expanded_conv_3/depthwise (Dep  (None, 64, 64, 72)  1800        ['expanded_conv_3/depthwise/pad[0\n",
      " thwiseConv2D)                                                   ][0]']                           \n",
      "                                                                                                  \n",
      " expanded_conv_3/depthwise/Batc  (None, 64, 64, 72)  288         ['expanded_conv_3/depthwise[0][0]\n",
      " hNorm (BatchNormalization)                                      ']                               \n",
      "                                                                                                  \n",
      " re_lu_7 (ReLU)                 (None, 64, 64, 72)   0           ['expanded_conv_3/depthwise/Batch\n",
      "                                                                 Norm[0][0]']                     \n",
      "                                                                                                  \n",
      " expanded_conv_3/squeeze_excite  (None, 1, 1, 72)    0           ['re_lu_7[0][0]']                \n",
      " /AvgPool (GlobalAveragePooling                                                                   \n",
      " 2D)                                                                                              \n",
      "                                                                                                  \n",
      " expanded_conv_3/squeeze_excite  (None, 1, 1, 24)    1752        ['expanded_conv_3/squeeze_excite/\n",
      " /Conv (Conv2D)                                                  AvgPool[0][0]']                  \n",
      "                                                                                                  \n",
      " expanded_conv_3/squeeze_excite  (None, 1, 1, 24)    0           ['expanded_conv_3/squeeze_excite/\n",
      " /Relu (ReLU)                                                    Conv[0][0]']                     \n",
      "                                                                                                  \n",
      " expanded_conv_3/squeeze_excite  (None, 1, 1, 72)    1800        ['expanded_conv_3/squeeze_excite/\n",
      " /Conv_1 (Conv2D)                                                Relu[0][0]']                     \n",
      "                                                                                                  \n",
      " tf.__operators__.add_1 (TFOpLa  (None, 1, 1, 72)    0           ['expanded_conv_3/squeeze_excite/\n",
      " mbda)                                                           Conv_1[0][0]']                   \n",
      "                                                                                                  \n",
      " re_lu_8 (ReLU)                 (None, 1, 1, 72)     0           ['tf.__operators__.add_1[0][0]'] \n",
      "                                                                                                  \n",
      " tf.math.multiply_1 (TFOpLambda  (None, 1, 1, 72)    0           ['re_lu_8[0][0]']                \n",
      " )                                                                                                \n",
      "                                                                                                  \n",
      " expanded_conv_3/squeeze_excite  (None, 64, 64, 72)  0           ['re_lu_7[0][0]',                \n",
      " /Mul (Multiply)                                                  'tf.math.multiply_1[0][0]']     \n",
      "                                                                                                  \n",
      " expanded_conv_3/project (Conv2  (None, 64, 64, 40)  2880        ['expanded_conv_3/squeeze_excite/\n",
      " D)                                                              Mul[0][0]']                      \n",
      "                                                                                                  \n",
      " expanded_conv_3/project/BatchN  (None, 64, 64, 40)  160         ['expanded_conv_3/project[0][0]']\n",
      " orm (BatchNormalization)                                                                         \n",
      "                                                                                                  \n",
      " expanded_conv_4/expand (Conv2D  (None, 64, 64, 120)  4800       ['expanded_conv_3/project/BatchNo\n",
      " )                                                               rm[0][0]']                       \n",
      "                                                                                                  \n",
      " expanded_conv_4/expand/BatchNo  (None, 64, 64, 120)  480        ['expanded_conv_4/expand[0][0]'] \n",
      " rm (BatchNormalization)                                                                          \n",
      "                                                                                                  \n",
      " re_lu_9 (ReLU)                 (None, 64, 64, 120)  0           ['expanded_conv_4/expand/BatchNor\n",
      "                                                                 m[0][0]']                        \n",
      "                                                                                                  \n",
      " expanded_conv_4/depthwise (Dep  (None, 64, 64, 120)  3000       ['re_lu_9[0][0]']                \n",
      " thwiseConv2D)                                                                                    \n",
      "                                                                                                  \n",
      " expanded_conv_4/depthwise/Batc  (None, 64, 64, 120)  480        ['expanded_conv_4/depthwise[0][0]\n",
      " hNorm (BatchNormalization)                                      ']                               \n",
      "                                                                                                  \n",
      " re_lu_10 (ReLU)                (None, 64, 64, 120)  0           ['expanded_conv_4/depthwise/Batch\n",
      "                                                                 Norm[0][0]']                     \n",
      "                                                                                                  \n",
      " expanded_conv_4/squeeze_excite  (None, 1, 1, 120)   0           ['re_lu_10[0][0]']               \n",
      " /AvgPool (GlobalAveragePooling                                                                   \n",
      " 2D)                                                                                              \n",
      "                                                                                                  \n",
      " expanded_conv_4/squeeze_excite  (None, 1, 1, 32)    3872        ['expanded_conv_4/squeeze_excite/\n",
      " /Conv (Conv2D)                                                  AvgPool[0][0]']                  \n",
      "                                                                                                  \n",
      " expanded_conv_4/squeeze_excite  (None, 1, 1, 32)    0           ['expanded_conv_4/squeeze_excite/\n",
      " /Relu (ReLU)                                                    Conv[0][0]']                     \n",
      "                                                                                                  \n",
      " expanded_conv_4/squeeze_excite  (None, 1, 1, 120)   3960        ['expanded_conv_4/squeeze_excite/\n",
      " /Conv_1 (Conv2D)                                                Relu[0][0]']                     \n",
      "                                                                                                  \n",
      " tf.__operators__.add_2 (TFOpLa  (None, 1, 1, 120)   0           ['expanded_conv_4/squeeze_excite/\n",
      " mbda)                                                           Conv_1[0][0]']                   \n",
      "                                                                                                  \n",
      " re_lu_11 (ReLU)                (None, 1, 1, 120)    0           ['tf.__operators__.add_2[0][0]'] \n",
      "                                                                                                  \n",
      " tf.math.multiply_2 (TFOpLambda  (None, 1, 1, 120)   0           ['re_lu_11[0][0]']               \n",
      " )                                                                                                \n",
      "                                                                                                  \n",
      " expanded_conv_4/squeeze_excite  (None, 64, 64, 120)  0          ['re_lu_10[0][0]',               \n",
      " /Mul (Multiply)                                                  'tf.math.multiply_2[0][0]']     \n",
      "                                                                                                  \n",
      " expanded_conv_4/project (Conv2  (None, 64, 64, 40)  4800        ['expanded_conv_4/squeeze_excite/\n",
      " D)                                                              Mul[0][0]']                      \n",
      "                                                                                                  \n",
      " expanded_conv_4/project/BatchN  (None, 64, 64, 40)  160         ['expanded_conv_4/project[0][0]']\n",
      " orm (BatchNormalization)                                                                         \n",
      "                                                                                                  \n",
      " expanded_conv_4/Add (Add)      (None, 64, 64, 40)   0           ['expanded_conv_3/project/BatchNo\n",
      "                                                                 rm[0][0]',                       \n",
      "                                                                  'expanded_conv_4/project/BatchNo\n",
      "                                                                 rm[0][0]']                       \n",
      "                                                                                                  \n",
      " expanded_conv_5/expand (Conv2D  (None, 64, 64, 120)  4800       ['expanded_conv_4/Add[0][0]']    \n",
      " )                                                                                                \n",
      "                                                                                                  \n",
      " expanded_conv_5/expand/BatchNo  (None, 64, 64, 120)  480        ['expanded_conv_5/expand[0][0]'] \n",
      " rm (BatchNormalization)                                                                          \n",
      "                                                                                                  \n",
      " re_lu_12 (ReLU)                (None, 64, 64, 120)  0           ['expanded_conv_5/expand/BatchNor\n",
      "                                                                 m[0][0]']                        \n",
      "                                                                                                  \n",
      " expanded_conv_5/depthwise (Dep  (None, 64, 64, 120)  3000       ['re_lu_12[0][0]']               \n",
      " thwiseConv2D)                                                                                    \n",
      "                                                                                                  \n",
      " expanded_conv_5/depthwise/Batc  (None, 64, 64, 120)  480        ['expanded_conv_5/depthwise[0][0]\n",
      " hNorm (BatchNormalization)                                      ']                               \n",
      "                                                                                                  \n",
      " re_lu_13 (ReLU)                (None, 64, 64, 120)  0           ['expanded_conv_5/depthwise/Batch\n",
      "                                                                 Norm[0][0]']                     \n",
      "                                                                                                  \n",
      " expanded_conv_5/squeeze_excite  (None, 1, 1, 120)   0           ['re_lu_13[0][0]']               \n",
      " /AvgPool (GlobalAveragePooling                                                                   \n",
      " 2D)                                                                                              \n",
      "                                                                                                  \n",
      " expanded_conv_5/squeeze_excite  (None, 1, 1, 32)    3872        ['expanded_conv_5/squeeze_excite/\n",
      " /Conv (Conv2D)                                                  AvgPool[0][0]']                  \n",
      "                                                                                                  \n",
      " expanded_conv_5/squeeze_excite  (None, 1, 1, 32)    0           ['expanded_conv_5/squeeze_excite/\n",
      " /Relu (ReLU)                                                    Conv[0][0]']                     \n",
      "                                                                                                  \n",
      " expanded_conv_5/squeeze_excite  (None, 1, 1, 120)   3960        ['expanded_conv_5/squeeze_excite/\n",
      " /Conv_1 (Conv2D)                                                Relu[0][0]']                     \n",
      "                                                                                                  \n",
      " tf.__operators__.add_3 (TFOpLa  (None, 1, 1, 120)   0           ['expanded_conv_5/squeeze_excite/\n",
      " mbda)                                                           Conv_1[0][0]']                   \n",
      "                                                                                                  \n",
      " re_lu_14 (ReLU)                (None, 1, 1, 120)    0           ['tf.__operators__.add_3[0][0]'] \n",
      "                                                                                                  \n",
      " tf.math.multiply_3 (TFOpLambda  (None, 1, 1, 120)   0           ['re_lu_14[0][0]']               \n",
      " )                                                                                                \n",
      "                                                                                                  \n",
      " expanded_conv_5/squeeze_excite  (None, 64, 64, 120)  0          ['re_lu_13[0][0]',               \n",
      " /Mul (Multiply)                                                  'tf.math.multiply_3[0][0]']     \n",
      "                                                                                                  \n",
      " expanded_conv_5/project (Conv2  (None, 64, 64, 40)  4800        ['expanded_conv_5/squeeze_excite/\n",
      " D)                                                              Mul[0][0]']                      \n",
      "                                                                                                  \n",
      " expanded_conv_5/project/BatchN  (None, 64, 64, 40)  160         ['expanded_conv_5/project[0][0]']\n",
      " orm (BatchNormalization)                                                                         \n",
      "                                                                                                  \n",
      " expanded_conv_5/Add (Add)      (None, 64, 64, 40)   0           ['expanded_conv_4/Add[0][0]',    \n",
      "                                                                  'expanded_conv_5/project/BatchNo\n",
      "                                                                 rm[0][0]']                       \n",
      "                                                                                                  \n",
      " expanded_conv_6/expand (Conv2D  (None, 64, 64, 240)  9600       ['expanded_conv_5/Add[0][0]']    \n",
      " )                                                                                                \n",
      "                                                                                                  \n",
      " expanded_conv_6/expand/BatchNo  (None, 64, 64, 240)  960        ['expanded_conv_6/expand[0][0]'] \n",
      " rm (BatchNormalization)                                                                          \n",
      "                                                                                                  \n",
      " tf.__operators__.add_4 (TFOpLa  (None, 64, 64, 240)  0          ['expanded_conv_6/expand/BatchNor\n",
      " mbda)                                                           m[0][0]']                        \n",
      "                                                                                                  \n",
      " re_lu_15 (ReLU)                (None, 64, 64, 240)  0           ['tf.__operators__.add_4[0][0]'] \n",
      "                                                                                                  \n",
      " tf.math.multiply_4 (TFOpLambda  (None, 64, 64, 240)  0          ['re_lu_15[0][0]']               \n",
      " )                                                                                                \n",
      "                                                                                                  \n",
      " multiply_1 (Multiply)          (None, 64, 64, 240)  0           ['expanded_conv_6/expand/BatchNor\n",
      "                                                                 m[0][0]',                        \n",
      "                                                                  'tf.math.multiply_4[0][0]']     \n",
      "                                                                                                  \n",
      " expanded_conv_6/depthwise/pad   (None, 65, 65, 240)  0          ['multiply_1[0][0]']             \n",
      " (ZeroPadding2D)                                                                                  \n",
      "                                                                                                  \n",
      " expanded_conv_6/depthwise (Dep  (None, 32, 32, 240)  2160       ['expanded_conv_6/depthwise/pad[0\n",
      " thwiseConv2D)                                                   ][0]']                           \n",
      "                                                                                                  \n",
      " expanded_conv_6/depthwise/Batc  (None, 32, 32, 240)  960        ['expanded_conv_6/depthwise[0][0]\n",
      " hNorm (BatchNormalization)                                      ']                               \n",
      "                                                                                                  \n",
      " tf.__operators__.add_5 (TFOpLa  (None, 32, 32, 240)  0          ['expanded_conv_6/depthwise/Batch\n",
      " mbda)                                                           Norm[0][0]']                     \n",
      "                                                                                                  \n",
      " re_lu_16 (ReLU)                (None, 32, 32, 240)  0           ['tf.__operators__.add_5[0][0]'] \n",
      "                                                                                                  \n",
      " tf.math.multiply_5 (TFOpLambda  (None, 32, 32, 240)  0          ['re_lu_16[0][0]']               \n",
      " )                                                                                                \n",
      "                                                                                                  \n",
      " multiply_2 (Multiply)          (None, 32, 32, 240)  0           ['expanded_conv_6/depthwise/Batch\n",
      "                                                                 Norm[0][0]',                     \n",
      "                                                                  'tf.math.multiply_5[0][0]']     \n",
      "                                                                                                  \n",
      " expanded_conv_6/project (Conv2  (None, 32, 32, 80)  19200       ['multiply_2[0][0]']             \n",
      " D)                                                                                               \n",
      "                                                                                                  \n",
      " expanded_conv_6/project/BatchN  (None, 32, 32, 80)  320         ['expanded_conv_6/project[0][0]']\n",
      " orm (BatchNormalization)                                                                         \n",
      "                                                                                                  \n",
      " expanded_conv_7/expand (Conv2D  (None, 32, 32, 200)  16000      ['expanded_conv_6/project/BatchNo\n",
      " )                                                               rm[0][0]']                       \n",
      "                                                                                                  \n",
      " expanded_conv_7/expand/BatchNo  (None, 32, 32, 200)  800        ['expanded_conv_7/expand[0][0]'] \n",
      " rm (BatchNormalization)                                                                          \n",
      "                                                                                                  \n",
      " tf.__operators__.add_6 (TFOpLa  (None, 32, 32, 200)  0          ['expanded_conv_7/expand/BatchNor\n",
      " mbda)                                                           m[0][0]']                        \n",
      "                                                                                                  \n",
      " re_lu_17 (ReLU)                (None, 32, 32, 200)  0           ['tf.__operators__.add_6[0][0]'] \n",
      "                                                                                                  \n",
      " tf.math.multiply_6 (TFOpLambda  (None, 32, 32, 200)  0          ['re_lu_17[0][0]']               \n",
      " )                                                                                                \n",
      "                                                                                                  \n",
      " multiply_3 (Multiply)          (None, 32, 32, 200)  0           ['expanded_conv_7/expand/BatchNor\n",
      "                                                                 m[0][0]',                        \n",
      "                                                                  'tf.math.multiply_6[0][0]']     \n",
      "                                                                                                  \n",
      " expanded_conv_7/depthwise (Dep  (None, 32, 32, 200)  1800       ['multiply_3[0][0]']             \n",
      " thwiseConv2D)                                                                                    \n",
      "                                                                                                  \n",
      " expanded_conv_7/depthwise/Batc  (None, 32, 32, 200)  800        ['expanded_conv_7/depthwise[0][0]\n",
      " hNorm (BatchNormalization)                                      ']                               \n",
      "                                                                                                  \n",
      " tf.__operators__.add_7 (TFOpLa  (None, 32, 32, 200)  0          ['expanded_conv_7/depthwise/Batch\n",
      " mbda)                                                           Norm[0][0]']                     \n",
      "                                                                                                  \n",
      " re_lu_18 (ReLU)                (None, 32, 32, 200)  0           ['tf.__operators__.add_7[0][0]'] \n",
      "                                                                                                  \n",
      " tf.math.multiply_7 (TFOpLambda  (None, 32, 32, 200)  0          ['re_lu_18[0][0]']               \n",
      " )                                                                                                \n",
      "                                                                                                  \n",
      " multiply_4 (Multiply)          (None, 32, 32, 200)  0           ['expanded_conv_7/depthwise/Batch\n",
      "                                                                 Norm[0][0]',                     \n",
      "                                                                  'tf.math.multiply_7[0][0]']     \n",
      "                                                                                                  \n",
      " expanded_conv_7/project (Conv2  (None, 32, 32, 80)  16000       ['multiply_4[0][0]']             \n",
      " D)                                                                                               \n",
      "                                                                                                  \n",
      " expanded_conv_7/project/BatchN  (None, 32, 32, 80)  320         ['expanded_conv_7/project[0][0]']\n",
      " orm (BatchNormalization)                                                                         \n",
      "                                                                                                  \n",
      " expanded_conv_7/Add (Add)      (None, 32, 32, 80)   0           ['expanded_conv_6/project/BatchNo\n",
      "                                                                 rm[0][0]',                       \n",
      "                                                                  'expanded_conv_7/project/BatchNo\n",
      "                                                                 rm[0][0]']                       \n",
      "                                                                                                  \n",
      " expanded_conv_8/expand (Conv2D  (None, 32, 32, 184)  14720      ['expanded_conv_7/Add[0][0]']    \n",
      " )                                                                                                \n",
      "                                                                                                  \n",
      " expanded_conv_8/expand/BatchNo  (None, 32, 32, 184)  736        ['expanded_conv_8/expand[0][0]'] \n",
      " rm (BatchNormalization)                                                                          \n",
      "                                                                                                  \n",
      " tf.__operators__.add_8 (TFOpLa  (None, 32, 32, 184)  0          ['expanded_conv_8/expand/BatchNor\n",
      " mbda)                                                           m[0][0]']                        \n",
      "                                                                                                  \n",
      " re_lu_19 (ReLU)                (None, 32, 32, 184)  0           ['tf.__operators__.add_8[0][0]'] \n",
      "                                                                                                  \n",
      " tf.math.multiply_8 (TFOpLambda  (None, 32, 32, 184)  0          ['re_lu_19[0][0]']               \n",
      " )                                                                                                \n",
      "                                                                                                  \n",
      " multiply_5 (Multiply)          (None, 32, 32, 184)  0           ['expanded_conv_8/expand/BatchNor\n",
      "                                                                 m[0][0]',                        \n",
      "                                                                  'tf.math.multiply_8[0][0]']     \n",
      "                                                                                                  \n",
      " expanded_conv_8/depthwise (Dep  (None, 32, 32, 184)  1656       ['multiply_5[0][0]']             \n",
      " thwiseConv2D)                                                                                    \n",
      "                                                                                                  \n",
      " expanded_conv_8/depthwise/Batc  (None, 32, 32, 184)  736        ['expanded_conv_8/depthwise[0][0]\n",
      " hNorm (BatchNormalization)                                      ']                               \n",
      "                                                                                                  \n",
      " tf.__operators__.add_9 (TFOpLa  (None, 32, 32, 184)  0          ['expanded_conv_8/depthwise/Batch\n",
      " mbda)                                                           Norm[0][0]']                     \n",
      "                                                                                                  \n",
      " re_lu_20 (ReLU)                (None, 32, 32, 184)  0           ['tf.__operators__.add_9[0][0]'] \n",
      "                                                                                                  \n",
      " tf.math.multiply_9 (TFOpLambda  (None, 32, 32, 184)  0          ['re_lu_20[0][0]']               \n",
      " )                                                                                                \n",
      "                                                                                                  \n",
      " multiply_6 (Multiply)          (None, 32, 32, 184)  0           ['expanded_conv_8/depthwise/Batch\n",
      "                                                                 Norm[0][0]',                     \n",
      "                                                                  'tf.math.multiply_9[0][0]']     \n",
      "                                                                                                  \n",
      " expanded_conv_8/project (Conv2  (None, 32, 32, 80)  14720       ['multiply_6[0][0]']             \n",
      " D)                                                                                               \n",
      "                                                                                                  \n",
      " expanded_conv_8/project/BatchN  (None, 32, 32, 80)  320         ['expanded_conv_8/project[0][0]']\n",
      " orm (BatchNormalization)                                                                         \n",
      "                                                                                                  \n",
      " expanded_conv_8/Add (Add)      (None, 32, 32, 80)   0           ['expanded_conv_7/Add[0][0]',    \n",
      "                                                                  'expanded_conv_8/project/BatchNo\n",
      "                                                                 rm[0][0]']                       \n",
      "                                                                                                  \n",
      " expanded_conv_9/expand (Conv2D  (None, 32, 32, 184)  14720      ['expanded_conv_8/Add[0][0]']    \n",
      " )                                                                                                \n",
      "                                                                                                  \n",
      " expanded_conv_9/expand/BatchNo  (None, 32, 32, 184)  736        ['expanded_conv_9/expand[0][0]'] \n",
      " rm (BatchNormalization)                                                                          \n",
      "                                                                                                  \n",
      " tf.__operators__.add_10 (TFOpL  (None, 32, 32, 184)  0          ['expanded_conv_9/expand/BatchNor\n",
      " ambda)                                                          m[0][0]']                        \n",
      "                                                                                                  \n",
      " re_lu_21 (ReLU)                (None, 32, 32, 184)  0           ['tf.__operators__.add_10[0][0]']\n",
      "                                                                                                  \n",
      " tf.math.multiply_10 (TFOpLambd  (None, 32, 32, 184)  0          ['re_lu_21[0][0]']               \n",
      " a)                                                                                               \n",
      "                                                                                                  \n",
      " multiply_7 (Multiply)          (None, 32, 32, 184)  0           ['expanded_conv_9/expand/BatchNor\n",
      "                                                                 m[0][0]',                        \n",
      "                                                                  'tf.math.multiply_10[0][0]']    \n",
      "                                                                                                  \n",
      " expanded_conv_9/depthwise (Dep  (None, 32, 32, 184)  1656       ['multiply_7[0][0]']             \n",
      " thwiseConv2D)                                                                                    \n",
      "                                                                                                  \n",
      " expanded_conv_9/depthwise/Batc  (None, 32, 32, 184)  736        ['expanded_conv_9/depthwise[0][0]\n",
      " hNorm (BatchNormalization)                                      ']                               \n",
      "                                                                                                  \n",
      " tf.__operators__.add_11 (TFOpL  (None, 32, 32, 184)  0          ['expanded_conv_9/depthwise/Batch\n",
      " ambda)                                                          Norm[0][0]']                     \n",
      "                                                                                                  \n",
      " re_lu_22 (ReLU)                (None, 32, 32, 184)  0           ['tf.__operators__.add_11[0][0]']\n",
      "                                                                                                  \n",
      " tf.math.multiply_11 (TFOpLambd  (None, 32, 32, 184)  0          ['re_lu_22[0][0]']               \n",
      " a)                                                                                               \n",
      "                                                                                                  \n",
      " multiply_8 (Multiply)          (None, 32, 32, 184)  0           ['expanded_conv_9/depthwise/Batch\n",
      "                                                                 Norm[0][0]',                     \n",
      "                                                                  'tf.math.multiply_11[0][0]']    \n",
      "                                                                                                  \n",
      " expanded_conv_9/project (Conv2  (None, 32, 32, 80)  14720       ['multiply_8[0][0]']             \n",
      " D)                                                                                               \n",
      "                                                                                                  \n",
      " expanded_conv_9/project/BatchN  (None, 32, 32, 80)  320         ['expanded_conv_9/project[0][0]']\n",
      " orm (BatchNormalization)                                                                         \n",
      "                                                                                                  \n",
      " expanded_conv_9/Add (Add)      (None, 32, 32, 80)   0           ['expanded_conv_8/Add[0][0]',    \n",
      "                                                                  'expanded_conv_9/project/BatchNo\n",
      "                                                                 rm[0][0]']                       \n",
      "                                                                                                  \n",
      " expanded_conv_10/expand (Conv2  (None, 32, 32, 480)  38400      ['expanded_conv_9/Add[0][0]']    \n",
      " D)                                                                                               \n",
      "                                                                                                  \n",
      " expanded_conv_10/expand/BatchN  (None, 32, 32, 480)  1920       ['expanded_conv_10/expand[0][0]']\n",
      " orm (BatchNormalization)                                                                         \n",
      "                                                                                                  \n",
      " tf.__operators__.add_12 (TFOpL  (None, 32, 32, 480)  0          ['expanded_conv_10/expand/BatchNo\n",
      " ambda)                                                          rm[0][0]']                       \n",
      "                                                                                                  \n",
      " re_lu_23 (ReLU)                (None, 32, 32, 480)  0           ['tf.__operators__.add_12[0][0]']\n",
      "                                                                                                  \n",
      " tf.math.multiply_12 (TFOpLambd  (None, 32, 32, 480)  0          ['re_lu_23[0][0]']               \n",
      " a)                                                                                               \n",
      "                                                                                                  \n",
      " multiply_9 (Multiply)          (None, 32, 32, 480)  0           ['expanded_conv_10/expand/BatchNo\n",
      "                                                                 rm[0][0]',                       \n",
      "                                                                  'tf.math.multiply_12[0][0]']    \n",
      "                                                                                                  \n",
      " expanded_conv_10/depthwise (De  (None, 32, 32, 480)  4320       ['multiply_9[0][0]']             \n",
      " pthwiseConv2D)                                                                                   \n",
      "                                                                                                  \n",
      " expanded_conv_10/depthwise/Bat  (None, 32, 32, 480)  1920       ['expanded_conv_10/depthwise[0][0\n",
      " chNorm (BatchNormalization)                                     ]']                              \n",
      "                                                                                                  \n",
      " tf.__operators__.add_13 (TFOpL  (None, 32, 32, 480)  0          ['expanded_conv_10/depthwise/Batc\n",
      " ambda)                                                          hNorm[0][0]']                    \n",
      "                                                                                                  \n",
      " re_lu_24 (ReLU)                (None, 32, 32, 480)  0           ['tf.__operators__.add_13[0][0]']\n",
      "                                                                                                  \n",
      " tf.math.multiply_13 (TFOpLambd  (None, 32, 32, 480)  0          ['re_lu_24[0][0]']               \n",
      " a)                                                                                               \n",
      "                                                                                                  \n",
      " multiply_10 (Multiply)         (None, 32, 32, 480)  0           ['expanded_conv_10/depthwise/Batc\n",
      "                                                                 hNorm[0][0]',                    \n",
      "                                                                  'tf.math.multiply_13[0][0]']    \n",
      "                                                                                                  \n",
      " expanded_conv_10/squeeze_excit  (None, 1, 1, 480)   0           ['multiply_10[0][0]']            \n",
      " e/AvgPool (GlobalAveragePoolin                                                                   \n",
      " g2D)                                                                                             \n",
      "                                                                                                  \n",
      " expanded_conv_10/squeeze_excit  (None, 1, 1, 120)   57720       ['expanded_conv_10/squeeze_excite\n",
      " e/Conv (Conv2D)                                                 /AvgPool[0][0]']                 \n",
      "                                                                                                  \n",
      " expanded_conv_10/squeeze_excit  (None, 1, 1, 120)   0           ['expanded_conv_10/squeeze_excite\n",
      " e/Relu (ReLU)                                                   /Conv[0][0]']                    \n",
      "                                                                                                  \n",
      " expanded_conv_10/squeeze_excit  (None, 1, 1, 480)   58080       ['expanded_conv_10/squeeze_excite\n",
      " e/Conv_1 (Conv2D)                                               /Relu[0][0]']                    \n",
      "                                                                                                  \n",
      " tf.__operators__.add_14 (TFOpL  (None, 1, 1, 480)   0           ['expanded_conv_10/squeeze_excite\n",
      " ambda)                                                          /Conv_1[0][0]']                  \n",
      "                                                                                                  \n",
      " re_lu_25 (ReLU)                (None, 1, 1, 480)    0           ['tf.__operators__.add_14[0][0]']\n",
      "                                                                                                  \n",
      " tf.math.multiply_14 (TFOpLambd  (None, 1, 1, 480)   0           ['re_lu_25[0][0]']               \n",
      " a)                                                                                               \n",
      "                                                                                                  \n",
      " expanded_conv_10/squeeze_excit  (None, 32, 32, 480)  0          ['multiply_10[0][0]',            \n",
      " e/Mul (Multiply)                                                 'tf.math.multiply_14[0][0]']    \n",
      "                                                                                                  \n",
      " expanded_conv_10/project (Conv  (None, 32, 32, 112)  53760      ['expanded_conv_10/squeeze_excite\n",
      " 2D)                                                             /Mul[0][0]']                     \n",
      "                                                                                                  \n",
      " expanded_conv_10/project/Batch  (None, 32, 32, 112)  448        ['expanded_conv_10/project[0][0]'\n",
      " Norm (BatchNormalization)                                       ]                                \n",
      "                                                                                                  \n",
      " expanded_conv_11/expand (Conv2  (None, 32, 32, 672)  75264      ['expanded_conv_10/project/BatchN\n",
      " D)                                                              orm[0][0]']                      \n",
      "                                                                                                  \n",
      " expanded_conv_11/expand/BatchN  (None, 32, 32, 672)  2688       ['expanded_conv_11/expand[0][0]']\n",
      " orm (BatchNormalization)                                                                         \n",
      "                                                                                                  \n",
      " tf.__operators__.add_15 (TFOpL  (None, 32, 32, 672)  0          ['expanded_conv_11/expand/BatchNo\n",
      " ambda)                                                          rm[0][0]']                       \n",
      "                                                                                                  \n",
      " re_lu_26 (ReLU)                (None, 32, 32, 672)  0           ['tf.__operators__.add_15[0][0]']\n",
      "                                                                                                  \n",
      " tf.math.multiply_15 (TFOpLambd  (None, 32, 32, 672)  0          ['re_lu_26[0][0]']               \n",
      " a)                                                                                               \n",
      "                                                                                                  \n",
      " multiply_11 (Multiply)         (None, 32, 32, 672)  0           ['expanded_conv_11/expand/BatchNo\n",
      "                                                                 rm[0][0]',                       \n",
      "                                                                  'tf.math.multiply_15[0][0]']    \n",
      "                                                                                                  \n",
      " expanded_conv_11/depthwise (De  (None, 32, 32, 672)  6048       ['multiply_11[0][0]']            \n",
      " pthwiseConv2D)                                                                                   \n",
      "                                                                                                  \n",
      " expanded_conv_11/depthwise/Bat  (None, 32, 32, 672)  2688       ['expanded_conv_11/depthwise[0][0\n",
      " chNorm (BatchNormalization)                                     ]']                              \n",
      "                                                                                                  \n",
      " tf.__operators__.add_16 (TFOpL  (None, 32, 32, 672)  0          ['expanded_conv_11/depthwise/Batc\n",
      " ambda)                                                          hNorm[0][0]']                    \n",
      "                                                                                                  \n",
      " re_lu_27 (ReLU)                (None, 32, 32, 672)  0           ['tf.__operators__.add_16[0][0]']\n",
      "                                                                                                  \n",
      " tf.math.multiply_16 (TFOpLambd  (None, 32, 32, 672)  0          ['re_lu_27[0][0]']               \n",
      " a)                                                                                               \n",
      "                                                                                                  \n",
      " multiply_12 (Multiply)         (None, 32, 32, 672)  0           ['expanded_conv_11/depthwise/Batc\n",
      "                                                                 hNorm[0][0]',                    \n",
      "                                                                  'tf.math.multiply_16[0][0]']    \n",
      "                                                                                                  \n",
      " expanded_conv_11/squeeze_excit  (None, 1, 1, 672)   0           ['multiply_12[0][0]']            \n",
      " e/AvgPool (GlobalAveragePoolin                                                                   \n",
      " g2D)                                                                                             \n",
      "                                                                                                  \n",
      " expanded_conv_11/squeeze_excit  (None, 1, 1, 168)   113064      ['expanded_conv_11/squeeze_excite\n",
      " e/Conv (Conv2D)                                                 /AvgPool[0][0]']                 \n",
      "                                                                                                  \n",
      " expanded_conv_11/squeeze_excit  (None, 1, 1, 168)   0           ['expanded_conv_11/squeeze_excite\n",
      " e/Relu (ReLU)                                                   /Conv[0][0]']                    \n",
      "                                                                                                  \n",
      " expanded_conv_11/squeeze_excit  (None, 1, 1, 672)   113568      ['expanded_conv_11/squeeze_excite\n",
      " e/Conv_1 (Conv2D)                                               /Relu[0][0]']                    \n",
      "                                                                                                  \n",
      " tf.__operators__.add_17 (TFOpL  (None, 1, 1, 672)   0           ['expanded_conv_11/squeeze_excite\n",
      " ambda)                                                          /Conv_1[0][0]']                  \n",
      "                                                                                                  \n",
      " re_lu_28 (ReLU)                (None, 1, 1, 672)    0           ['tf.__operators__.add_17[0][0]']\n",
      "                                                                                                  \n",
      " tf.math.multiply_17 (TFOpLambd  (None, 1, 1, 672)   0           ['re_lu_28[0][0]']               \n",
      " a)                                                                                               \n",
      "                                                                                                  \n",
      " expanded_conv_11/squeeze_excit  (None, 32, 32, 672)  0          ['multiply_12[0][0]',            \n",
      " e/Mul (Multiply)                                                 'tf.math.multiply_17[0][0]']    \n",
      "                                                                                                  \n",
      " expanded_conv_11/project (Conv  (None, 32, 32, 112)  75264      ['expanded_conv_11/squeeze_excite\n",
      " 2D)                                                             /Mul[0][0]']                     \n",
      "                                                                                                  \n",
      " expanded_conv_11/project/Batch  (None, 32, 32, 112)  448        ['expanded_conv_11/project[0][0]'\n",
      " Norm (BatchNormalization)                                       ]                                \n",
      "                                                                                                  \n",
      " expanded_conv_11/Add (Add)     (None, 32, 32, 112)  0           ['expanded_conv_10/project/BatchN\n",
      "                                                                 orm[0][0]',                      \n",
      "                                                                  'expanded_conv_11/project/BatchN\n",
      "                                                                 orm[0][0]']                      \n",
      "                                                                                                  \n",
      " expanded_conv_12/expand (Conv2  (None, 32, 32, 672)  75264      ['expanded_conv_11/Add[0][0]']   \n",
      " D)                                                                                               \n",
      "                                                                                                  \n",
      " expanded_conv_12/expand/BatchN  (None, 32, 32, 672)  2688       ['expanded_conv_12/expand[0][0]']\n",
      " orm (BatchNormalization)                                                                         \n",
      "                                                                                                  \n",
      " tf.__operators__.add_18 (TFOpL  (None, 32, 32, 672)  0          ['expanded_conv_12/expand/BatchNo\n",
      " ambda)                                                          rm[0][0]']                       \n",
      "                                                                                                  \n",
      " re_lu_29 (ReLU)                (None, 32, 32, 672)  0           ['tf.__operators__.add_18[0][0]']\n",
      "                                                                                                  \n",
      " tf.math.multiply_18 (TFOpLambd  (None, 32, 32, 672)  0          ['re_lu_29[0][0]']               \n",
      " a)                                                                                               \n",
      "                                                                                                  \n",
      " multiply_13 (Multiply)         (None, 32, 32, 672)  0           ['expanded_conv_12/expand/BatchNo\n",
      "                                                                 rm[0][0]',                       \n",
      "                                                                  'tf.math.multiply_18[0][0]']    \n",
      "                                                                                                  \n",
      " expanded_conv_12/depthwise/pad  (None, 35, 35, 672)  0          ['multiply_13[0][0]']            \n",
      "  (ZeroPadding2D)                                                                                 \n",
      "                                                                                                  \n",
      " expanded_conv_12/depthwise (De  (None, 16, 16, 672)  16800      ['expanded_conv_12/depthwise/pad[\n",
      " pthwiseConv2D)                                                  0][0]']                          \n",
      "                                                                                                  \n",
      " expanded_conv_12/depthwise/Bat  (None, 16, 16, 672)  2688       ['expanded_conv_12/depthwise[0][0\n",
      " chNorm (BatchNormalization)                                     ]']                              \n",
      "                                                                                                  \n",
      " tf.__operators__.add_19 (TFOpL  (None, 16, 16, 672)  0          ['expanded_conv_12/depthwise/Batc\n",
      " ambda)                                                          hNorm[0][0]']                    \n",
      "                                                                                                  \n",
      " re_lu_30 (ReLU)                (None, 16, 16, 672)  0           ['tf.__operators__.add_19[0][0]']\n",
      "                                                                                                  \n",
      " tf.math.multiply_19 (TFOpLambd  (None, 16, 16, 672)  0          ['re_lu_30[0][0]']               \n",
      " a)                                                                                               \n",
      "                                                                                                  \n",
      " multiply_14 (Multiply)         (None, 16, 16, 672)  0           ['expanded_conv_12/depthwise/Batc\n",
      "                                                                 hNorm[0][0]',                    \n",
      "                                                                  'tf.math.multiply_19[0][0]']    \n",
      "                                                                                                  \n",
      " expanded_conv_12/squeeze_excit  (None, 1, 1, 672)   0           ['multiply_14[0][0]']            \n",
      " e/AvgPool (GlobalAveragePoolin                                                                   \n",
      " g2D)                                                                                             \n",
      "                                                                                                  \n",
      " expanded_conv_12/squeeze_excit  (None, 1, 1, 168)   113064      ['expanded_conv_12/squeeze_excite\n",
      " e/Conv (Conv2D)                                                 /AvgPool[0][0]']                 \n",
      "                                                                                                  \n",
      " expanded_conv_12/squeeze_excit  (None, 1, 1, 168)   0           ['expanded_conv_12/squeeze_excite\n",
      " e/Relu (ReLU)                                                   /Conv[0][0]']                    \n",
      "                                                                                                  \n",
      " expanded_conv_12/squeeze_excit  (None, 1, 1, 672)   113568      ['expanded_conv_12/squeeze_excite\n",
      " e/Conv_1 (Conv2D)                                               /Relu[0][0]']                    \n",
      "                                                                                                  \n",
      " tf.__operators__.add_20 (TFOpL  (None, 1, 1, 672)   0           ['expanded_conv_12/squeeze_excite\n",
      " ambda)                                                          /Conv_1[0][0]']                  \n",
      "                                                                                                  \n",
      " re_lu_31 (ReLU)                (None, 1, 1, 672)    0           ['tf.__operators__.add_20[0][0]']\n",
      "                                                                                                  \n",
      " tf.math.multiply_20 (TFOpLambd  (None, 1, 1, 672)   0           ['re_lu_31[0][0]']               \n",
      " a)                                                                                               \n",
      "                                                                                                  \n",
      " expanded_conv_12/squeeze_excit  (None, 16, 16, 672)  0          ['multiply_14[0][0]',            \n",
      " e/Mul (Multiply)                                                 'tf.math.multiply_20[0][0]']    \n",
      "                                                                                                  \n",
      " expanded_conv_12/project (Conv  (None, 16, 16, 160)  107520     ['expanded_conv_12/squeeze_excite\n",
      " 2D)                                                             /Mul[0][0]']                     \n",
      "                                                                                                  \n",
      " expanded_conv_12/project/Batch  (None, 16, 16, 160)  640        ['expanded_conv_12/project[0][0]'\n",
      " Norm (BatchNormalization)                                       ]                                \n",
      "                                                                                                  \n",
      " expanded_conv_13/expand (Conv2  (None, 16, 16, 960)  153600     ['expanded_conv_12/project/BatchN\n",
      " D)                                                              orm[0][0]']                      \n",
      "                                                                                                  \n",
      " expanded_conv_13/expand/BatchN  (None, 16, 16, 960)  3840       ['expanded_conv_13/expand[0][0]']\n",
      " orm (BatchNormalization)                                                                         \n",
      "                                                                                                  \n",
      " tf.__operators__.add_21 (TFOpL  (None, 16, 16, 960)  0          ['expanded_conv_13/expand/BatchNo\n",
      " ambda)                                                          rm[0][0]']                       \n",
      "                                                                                                  \n",
      " re_lu_32 (ReLU)                (None, 16, 16, 960)  0           ['tf.__operators__.add_21[0][0]']\n",
      "                                                                                                  \n",
      " tf.math.multiply_21 (TFOpLambd  (None, 16, 16, 960)  0          ['re_lu_32[0][0]']               \n",
      " a)                                                                                               \n",
      "                                                                                                  \n",
      " multiply_15 (Multiply)         (None, 16, 16, 960)  0           ['expanded_conv_13/expand/BatchNo\n",
      "                                                                 rm[0][0]',                       \n",
      "                                                                  'tf.math.multiply_21[0][0]']    \n",
      "                                                                                                  \n",
      " expanded_conv_13/depthwise (De  (None, 16, 16, 960)  24000      ['multiply_15[0][0]']            \n",
      " pthwiseConv2D)                                                                                   \n",
      "                                                                                                  \n",
      " expanded_conv_13/depthwise/Bat  (None, 16, 16, 960)  3840       ['expanded_conv_13/depthwise[0][0\n",
      " chNorm (BatchNormalization)                                     ]']                              \n",
      "                                                                                                  \n",
      " tf.__operators__.add_22 (TFOpL  (None, 16, 16, 960)  0          ['expanded_conv_13/depthwise/Batc\n",
      " ambda)                                                          hNorm[0][0]']                    \n",
      "                                                                                                  \n",
      " re_lu_33 (ReLU)                (None, 16, 16, 960)  0           ['tf.__operators__.add_22[0][0]']\n",
      "                                                                                                  \n",
      " tf.math.multiply_22 (TFOpLambd  (None, 16, 16, 960)  0          ['re_lu_33[0][0]']               \n",
      " a)                                                                                               \n",
      "                                                                                                  \n",
      " multiply_16 (Multiply)         (None, 16, 16, 960)  0           ['expanded_conv_13/depthwise/Batc\n",
      "                                                                 hNorm[0][0]',                    \n",
      "                                                                  'tf.math.multiply_22[0][0]']    \n",
      "                                                                                                  \n",
      " expanded_conv_13/squeeze_excit  (None, 1, 1, 960)   0           ['multiply_16[0][0]']            \n",
      " e/AvgPool (GlobalAveragePoolin                                                                   \n",
      " g2D)                                                                                             \n",
      "                                                                                                  \n",
      " expanded_conv_13/squeeze_excit  (None, 1, 1, 240)   230640      ['expanded_conv_13/squeeze_excite\n",
      " e/Conv (Conv2D)                                                 /AvgPool[0][0]']                 \n",
      "                                                                                                  \n",
      " expanded_conv_13/squeeze_excit  (None, 1, 1, 240)   0           ['expanded_conv_13/squeeze_excite\n",
      " e/Relu (ReLU)                                                   /Conv[0][0]']                    \n",
      "                                                                                                  \n",
      " expanded_conv_13/squeeze_excit  (None, 1, 1, 960)   231360      ['expanded_conv_13/squeeze_excite\n",
      " e/Conv_1 (Conv2D)                                               /Relu[0][0]']                    \n",
      "                                                                                                  \n",
      " tf.__operators__.add_23 (TFOpL  (None, 1, 1, 960)   0           ['expanded_conv_13/squeeze_excite\n",
      " ambda)                                                          /Conv_1[0][0]']                  \n",
      "                                                                                                  \n",
      " re_lu_34 (ReLU)                (None, 1, 1, 960)    0           ['tf.__operators__.add_23[0][0]']\n",
      "                                                                                                  \n",
      " tf.math.multiply_23 (TFOpLambd  (None, 1, 1, 960)   0           ['re_lu_34[0][0]']               \n",
      " a)                                                                                               \n",
      "                                                                                                  \n",
      " expanded_conv_13/squeeze_excit  (None, 16, 16, 960)  0          ['multiply_16[0][0]',            \n",
      " e/Mul (Multiply)                                                 'tf.math.multiply_23[0][0]']    \n",
      "                                                                                                  \n",
      " expanded_conv_13/project (Conv  (None, 16, 16, 160)  153600     ['expanded_conv_13/squeeze_excite\n",
      " 2D)                                                             /Mul[0][0]']                     \n",
      "                                                                                                  \n",
      " expanded_conv_13/project/Batch  (None, 16, 16, 160)  640        ['expanded_conv_13/project[0][0]'\n",
      " Norm (BatchNormalization)                                       ]                                \n",
      "                                                                                                  \n",
      " expanded_conv_13/Add (Add)     (None, 16, 16, 160)  0           ['expanded_conv_12/project/BatchN\n",
      "                                                                 orm[0][0]',                      \n",
      "                                                                  'expanded_conv_13/project/BatchN\n",
      "                                                                 orm[0][0]']                      \n",
      "                                                                                                  \n",
      " expanded_conv_14/expand (Conv2  (None, 16, 16, 960)  153600     ['expanded_conv_13/Add[0][0]']   \n",
      " D)                                                                                               \n",
      "                                                                                                  \n",
      " expanded_conv_14/expand/BatchN  (None, 16, 16, 960)  3840       ['expanded_conv_14/expand[0][0]']\n",
      " orm (BatchNormalization)                                                                         \n",
      "                                                                                                  \n",
      " tf.__operators__.add_24 (TFOpL  (None, 16, 16, 960)  0          ['expanded_conv_14/expand/BatchNo\n",
      " ambda)                                                          rm[0][0]']                       \n",
      "                                                                                                  \n",
      " re_lu_35 (ReLU)                (None, 16, 16, 960)  0           ['tf.__operators__.add_24[0][0]']\n",
      "                                                                                                  \n",
      " tf.math.multiply_24 (TFOpLambd  (None, 16, 16, 960)  0          ['re_lu_35[0][0]']               \n",
      " a)                                                                                               \n",
      "                                                                                                  \n",
      " multiply_17 (Multiply)         (None, 16, 16, 960)  0           ['expanded_conv_14/expand/BatchNo\n",
      "                                                                 rm[0][0]',                       \n",
      "                                                                  'tf.math.multiply_24[0][0]']    \n",
      "                                                                                                  \n",
      " expanded_conv_14/depthwise (De  (None, 16, 16, 960)  24000      ['multiply_17[0][0]']            \n",
      " pthwiseConv2D)                                                                                   \n",
      "                                                                                                  \n",
      " expanded_conv_14/depthwise/Bat  (None, 16, 16, 960)  3840       ['expanded_conv_14/depthwise[0][0\n",
      " chNorm (BatchNormalization)                                     ]']                              \n",
      "                                                                                                  \n",
      " tf.__operators__.add_25 (TFOpL  (None, 16, 16, 960)  0          ['expanded_conv_14/depthwise/Batc\n",
      " ambda)                                                          hNorm[0][0]']                    \n",
      "                                                                                                  \n",
      " re_lu_36 (ReLU)                (None, 16, 16, 960)  0           ['tf.__operators__.add_25[0][0]']\n",
      "                                                                                                  \n",
      " tf.math.multiply_25 (TFOpLambd  (None, 16, 16, 960)  0          ['re_lu_36[0][0]']               \n",
      " a)                                                                                               \n",
      "                                                                                                  \n",
      " multiply_18 (Multiply)         (None, 16, 16, 960)  0           ['expanded_conv_14/depthwise/Batc\n",
      "                                                                 hNorm[0][0]',                    \n",
      "                                                                  'tf.math.multiply_25[0][0]']    \n",
      "                                                                                                  \n",
      " expanded_conv_14/squeeze_excit  (None, 1, 1, 960)   0           ['multiply_18[0][0]']            \n",
      " e/AvgPool (GlobalAveragePoolin                                                                   \n",
      " g2D)                                                                                             \n",
      "                                                                                                  \n",
      " expanded_conv_14/squeeze_excit  (None, 1, 1, 240)   230640      ['expanded_conv_14/squeeze_excite\n",
      " e/Conv (Conv2D)                                                 /AvgPool[0][0]']                 \n",
      "                                                                                                  \n",
      " expanded_conv_14/squeeze_excit  (None, 1, 1, 240)   0           ['expanded_conv_14/squeeze_excite\n",
      " e/Relu (ReLU)                                                   /Conv[0][0]']                    \n",
      "                                                                                                  \n",
      " expanded_conv_14/squeeze_excit  (None, 1, 1, 960)   231360      ['expanded_conv_14/squeeze_excite\n",
      " e/Conv_1 (Conv2D)                                               /Relu[0][0]']                    \n",
      "                                                                                                  \n",
      " tf.__operators__.add_26 (TFOpL  (None, 1, 1, 960)   0           ['expanded_conv_14/squeeze_excite\n",
      " ambda)                                                          /Conv_1[0][0]']                  \n",
      "                                                                                                  \n",
      " re_lu_37 (ReLU)                (None, 1, 1, 960)    0           ['tf.__operators__.add_26[0][0]']\n",
      "                                                                                                  \n",
      " tf.math.multiply_26 (TFOpLambd  (None, 1, 1, 960)   0           ['re_lu_37[0][0]']               \n",
      " a)                                                                                               \n",
      "                                                                                                  \n",
      " expanded_conv_14/squeeze_excit  (None, 16, 16, 960)  0          ['multiply_18[0][0]',            \n",
      " e/Mul (Multiply)                                                 'tf.math.multiply_26[0][0]']    \n",
      "                                                                                                  \n",
      " expanded_conv_14/project (Conv  (None, 16, 16, 160)  153600     ['expanded_conv_14/squeeze_excite\n",
      " 2D)                                                             /Mul[0][0]']                     \n",
      "                                                                                                  \n",
      " expanded_conv_14/project/Batch  (None, 16, 16, 160)  640        ['expanded_conv_14/project[0][0]'\n",
      " Norm (BatchNormalization)                                       ]                                \n",
      "                                                                                                  \n",
      " expanded_conv_14/Add (Add)     (None, 16, 16, 160)  0           ['expanded_conv_13/Add[0][0]',   \n",
      "                                                                  'expanded_conv_14/project/BatchN\n",
      "                                                                 orm[0][0]']                      \n",
      "                                                                                                  \n",
      " Conv_1 (Conv2D)                (None, 16, 16, 960)  153600      ['expanded_conv_14/Add[0][0]']   \n",
      "                                                                                                  \n",
      " Conv_1/BatchNorm (BatchNormali  (None, 16, 16, 960)  3840       ['Conv_1[0][0]']                 \n",
      " zation)                                                                                          \n",
      "                                                                                                  \n",
      " tf.__operators__.add_27 (TFOpL  (None, 16, 16, 960)  0          ['Conv_1/BatchNorm[0][0]']       \n",
      " ambda)                                                                                           \n",
      "                                                                                                  \n",
      " re_lu_38 (ReLU)                (None, 16, 16, 960)  0           ['tf.__operators__.add_27[0][0]']\n",
      "                                                                                                  \n",
      " tf.math.multiply_27 (TFOpLambd  (None, 16, 16, 960)  0          ['re_lu_38[0][0]']               \n",
      " a)                                                                                               \n",
      "                                                                                                  \n",
      " multiply_19 (Multiply)         (None, 16, 16, 960)  0           ['Conv_1/BatchNorm[0][0]',       \n",
      "                                                                  'tf.math.multiply_27[0][0]']    \n",
      "                                                                                                  \n",
      "==================================================================================================\n",
      "Total params: 2,996,352\n",
      "Trainable params: 2,971,952\n",
      "Non-trainable params: 24,400\n",
      "__________________________________________________________________________________________________\n"
     ]
    }
   ],
   "source": [
    "mobile_v3_model.summary()"
   ]
  },
  {
   "cell_type": "code",
   "execution_count": 23,
   "metadata": {
    "pycharm": {
     "name": "#%%\n"
    }
   },
   "outputs": [
    {
     "data": {
      "text/plain": [
       "['(None, 16, 16, 960)  |          0  |  expanded_conv_14/squeeze_excite/Mul',\n",
       " '(None, 16, 16, 160)  |    153,600  |  expanded_conv_14/project',\n",
       " '(None, 16, 16, 160)  |        640  |  expanded_conv_14/project/BatchNorm',\n",
       " '(None, 16, 16, 160)  |          0  |  expanded_conv_14/Add',\n",
       " '(None, 16, 16, 960)  |    153,600  |  Conv_1',\n",
       " '(None, 16, 16, 960)  |      3,840  |  Conv_1/BatchNorm',\n",
       " '(None, 16, 16, 960)  |          0  |  tf.__operators__.add_27',\n",
       " '(None, 16, 16, 960)  |          0  |  re_lu_38',\n",
       " '(None, 16, 16, 960)  |          0  |  tf.math.multiply_27',\n",
       " '(None, 16, 16, 960)  |          0  |  multiply_19']"
      ]
     },
     "execution_count": 23,
     "metadata": {},
     "output_type": "execute_result"
    }
   ],
   "source": [
    "[f'{layer.output_shape}  |  {layer.count_params(): 9,d}  |  {layer.name}' for layer in mobile_v3_model.layers[-10: ]]"
   ]
  },
  {
   "cell_type": "markdown",
   "metadata": {
    "pycharm": {
     "name": "#%% md\n"
    }
   },
   "source": [
    "# DataSet"
   ]
  },
  {
   "cell_type": "code",
   "execution_count": null,
   "metadata": {
    "pycharm": {
     "is_executing": true,
     "name": "#%%\n"
    },
    "tags": []
   },
   "outputs": [
    {
     "name": "stdout",
     "output_type": "stream",
     "text": [
      "\u001b[1mDownloading and preparing dataset Unknown size (download: Unknown size, generated: Unknown size, total: Unknown size) to D:\\tensorflow_datasets\\coco\\2017\\1.1.0...\u001b[0m\n"
     ]
    },
    {
     "data": {
      "application/vnd.jupyter.widget-view+json": {
       "model_id": "1e6c89178ccb4c60a651e9f1448fd3e6",
       "version_major": 2,
       "version_minor": 0
      },
      "text/plain": [
       "Dl Completed...: 0 url [00:00, ? url/s]"
      ]
     },
     "metadata": {},
     "output_type": "display_data"
    },
    {
     "data": {
      "application/vnd.jupyter.widget-view+json": {
       "model_id": "c5f9a4dca0724f39902df76c75be8558",
       "version_major": 2,
       "version_minor": 0
      },
      "text/plain": [
       "Dl Size...: 0 MiB [00:00, ? MiB/s]"
      ]
     },
     "metadata": {},
     "output_type": "display_data"
    },
    {
     "data": {
      "application/vnd.jupyter.widget-view+json": {
       "model_id": "8851e129830d4da6822faa8fabb4e71d",
       "version_major": 2,
       "version_minor": 0
      },
      "text/plain": [
       "Extraction completed...: 0 file [00:00, ? file/s]"
      ]
     },
     "metadata": {},
     "output_type": "display_data"
    },
    {
     "data": {
      "application/vnd.jupyter.widget-view+json": {
       "model_id": "e6e5781aaddd459ca73bd381df2e836a",
       "version_major": 2,
       "version_minor": 0
      },
      "text/plain": [
       "Generating splits...:   0%|          | 0/3 [00:00<?, ? splits/s]"
      ]
     },
     "metadata": {},
     "output_type": "display_data"
    },
    {
     "data": {
      "application/vnd.jupyter.widget-view+json": {
       "model_id": "c90a18733aad48d18e0e712e27ceaa60",
       "version_major": 2,
       "version_minor": 0
      },
      "text/plain": [
       "Generating train examples...: 0 examples [00:00, ? examples/s]"
      ]
     },
     "metadata": {},
     "output_type": "display_data"
    }
   ],
   "source": [
    "dataset, info = tfds.load(\n",
    "    'coco/2017',\n",
    "    split='train',\n",
    "    batch_size=32,\n",
    "    data_dir=r'D:\\tensorflow_datasets',\n",
    "    download=True,\n",
    "    shuffle_files=True,\n",
    "    with_info=True,\n",
    ")"
   ]
  },
  {
   "cell_type": "code",
   "execution_count": null,
   "metadata": {
    "pycharm": {
     "name": "#%%\n"
    }
   },
   "outputs": [],
   "source": [
    "tfds.show_examples(dataset, info)"
   ]
  }
 ],
 "metadata": {
  "kernelspec": {
   "display_name": "venv",
   "language": "python",
   "name": "venv"
  },
  "language_info": {
   "codemirror_mode": {
    "name": "ipython",
    "version": 3
   },
   "file_extension": ".py",
   "mimetype": "text/x-python",
   "name": "python",
   "nbconvert_exporter": "python",
   "pygments_lexer": "ipython3",
   "version": "3.9.12"
  },
  "widgets": {
   "application/vnd.jupyter.widget-state+json": {
    "state": {
     "05e9522525b24119843599f66239e0b2": {
      "model_module": "@jupyter-widgets/controls",
      "model_module_version": "1.5.0",
      "model_name": "HTMLModel",
      "state": {
       "layout": "IPY_MODEL_2438e65e8e744fac887c6ceb1fb6b73b",
       "style": "IPY_MODEL_86af515410e24850b48af02665e6029b",
       "value": " 76878/? [1:07:50&lt;00:00, 20.68 examples/s]"
      }
     },
     "0d4d19854a4e4d77b2d2d2ff7f2a9e36": {
      "model_module": "@jupyter-widgets/controls",
      "model_module_version": "1.5.0",
      "model_name": "ProgressStyleModel",
      "state": {
       "description_width": ""
      }
     },
     "1596fbdb2a5043a98e343ba8228b1f53": {
      "model_module": "@jupyter-widgets/controls",
      "model_module_version": "1.5.0",
      "model_name": "DescriptionStyleModel",
      "state": {
       "description_width": ""
      }
     },
     "1e6c89178ccb4c60a651e9f1448fd3e6": {
      "model_module": "@jupyter-widgets/controls",
      "model_module_version": "1.5.0",
      "model_name": "HBoxModel",
      "state": {
       "children": [
        "IPY_MODEL_df87030a276042829bcee116098b13be",
        "IPY_MODEL_447aa265cd17491e87c0893ff7f9b683",
        "IPY_MODEL_ef94589a5dbd49a0b5e4300c2a9d1d26"
       ],
       "layout": "IPY_MODEL_65404e25b2444ee28998b418885888c5"
      }
     },
     "1f1f06aa61ab4d1a978674e42ca9e428": {
      "model_module": "@jupyter-widgets/controls",
      "model_module_version": "1.5.0",
      "model_name": "DescriptionStyleModel",
      "state": {
       "description_width": ""
      }
     },
     "2438e65e8e744fac887c6ceb1fb6b73b": {
      "model_module": "@jupyter-widgets/base",
      "model_module_version": "1.2.0",
      "model_name": "LayoutModel",
      "state": {}
     },
     "291f100c8be247a6b8ce119e81b1ddba": {
      "model_module": "@jupyter-widgets/controls",
      "model_module_version": "1.5.0",
      "model_name": "ProgressStyleModel",
      "state": {
       "description_width": ""
      }
     },
     "2ffba053f95346a3830c3b75d9c734a2": {
      "model_module": "@jupyter-widgets/base",
      "model_module_version": "1.2.0",
      "model_name": "LayoutModel",
      "state": {}
     },
     "310aab5c98a54539b46e4181d7f2d7ad": {
      "model_module": "@jupyter-widgets/controls",
      "model_module_version": "1.5.0",
      "model_name": "HTMLModel",
      "state": {
       "layout": "IPY_MODEL_bc67e09772e5483e86950d94e56dc33e",
       "style": "IPY_MODEL_763362ff7b6b434b86a861568f598f0d",
       "value": "Dl Size...: 100%"
      }
     },
     "3552b8f837754554ae46bf9845669b70": {
      "model_module": "@jupyter-widgets/base",
      "model_module_version": "1.2.0",
      "model_name": "LayoutModel",
      "state": {}
     },
     "4188500321a84e699da59b207621d983": {
      "model_module": "@jupyter-widgets/base",
      "model_module_version": "1.2.0",
      "model_name": "LayoutModel",
      "state": {
       "width": "20px"
      }
     },
     "447aa265cd17491e87c0893ff7f9b683": {
      "model_module": "@jupyter-widgets/controls",
      "model_module_version": "1.5.0",
      "model_name": "FloatProgressModel",
      "state": {
       "bar_style": "success",
       "layout": "IPY_MODEL_d7d217e5b7fb4d0b9ed856368a4ffce7",
       "max": 1,
       "style": "IPY_MODEL_f3749792f7054e7a80b858edc997f8c1",
       "value": 1
      }
     },
     "4c6e9ddb4bb34e19b203abd389311d52": {
      "model_module": "@jupyter-widgets/controls",
      "model_module_version": "1.5.0",
      "model_name": "HTMLModel",
      "state": {
       "layout": "IPY_MODEL_de3064b17e114068ad026196dbb1b85a",
       "style": "IPY_MODEL_57c830c889bd42c9a29d8f6727fbeeee",
       "value": "Generating splits...:   0%"
      }
     },
     "53c3289b35024b3387e2f636c43618e9": {
      "model_module": "@jupyter-widgets/controls",
      "model_module_version": "1.5.0",
      "model_name": "FloatProgressModel",
      "state": {
       "layout": "IPY_MODEL_dbcaf94f10084b638d4e08fedfc6e43b",
       "max": 3,
       "style": "IPY_MODEL_e074fc045a8d474c8a3d92000299e645"
      }
     },
     "55eb94f57a8b4b1ea3243b0520194e2b": {
      "model_module": "@jupyter-widgets/controls",
      "model_module_version": "1.5.0",
      "model_name": "HTMLModel",
      "state": {
       "layout": "IPY_MODEL_adddfe31c8ca4f119135ad41a9a2b0c6",
       "style": "IPY_MODEL_8447a4b767a84a499386a9941366f67f",
       "value": "Extraction completed...: 100%"
      }
     },
     "57c830c889bd42c9a29d8f6727fbeeee": {
      "model_module": "@jupyter-widgets/controls",
      "model_module_version": "1.5.0",
      "model_name": "DescriptionStyleModel",
      "state": {
       "description_width": ""
      }
     },
     "5b5dc07b51324207a02a159c44f9e822": {
      "model_module": "@jupyter-widgets/controls",
      "model_module_version": "1.5.0",
      "model_name": "DescriptionStyleModel",
      "state": {
       "description_width": ""
      }
     },
     "613097945a5642fb9ac9663b99dc9e01": {
      "model_module": "@jupyter-widgets/controls",
      "model_module_version": "1.5.0",
      "model_name": "ProgressStyleModel",
      "state": {
       "description_width": ""
      }
     },
     "65404e25b2444ee28998b418885888c5": {
      "model_module": "@jupyter-widgets/base",
      "model_module_version": "1.2.0",
      "model_name": "LayoutModel",
      "state": {}
     },
     "6d26e192dd144583b3d45554827abc28": {
      "model_module": "@jupyter-widgets/controls",
      "model_module_version": "1.5.0",
      "model_name": "FloatProgressModel",
      "state": {
       "bar_style": "info",
       "layout": "IPY_MODEL_4188500321a84e699da59b207621d983",
       "max": 1,
       "style": "IPY_MODEL_613097945a5642fb9ac9663b99dc9e01",
       "value": 1
      }
     },
     "763362ff7b6b434b86a861568f598f0d": {
      "model_module": "@jupyter-widgets/controls",
      "model_module_version": "1.5.0",
      "model_name": "DescriptionStyleModel",
      "state": {
       "description_width": ""
      }
     },
     "7bcdab58df7649f3b4f13f610c85adda": {
      "model_module": "@jupyter-widgets/base",
      "model_module_version": "1.2.0",
      "model_name": "LayoutModel",
      "state": {}
     },
     "8447a4b767a84a499386a9941366f67f": {
      "model_module": "@jupyter-widgets/controls",
      "model_module_version": "1.5.0",
      "model_name": "DescriptionStyleModel",
      "state": {
       "description_width": ""
      }
     },
     "86af515410e24850b48af02665e6029b": {
      "model_module": "@jupyter-widgets/controls",
      "model_module_version": "1.5.0",
      "model_name": "DescriptionStyleModel",
      "state": {
       "description_width": ""
      }
     },
     "8851e129830d4da6822faa8fabb4e71d": {
      "model_module": "@jupyter-widgets/controls",
      "model_module_version": "1.5.0",
      "model_name": "HBoxModel",
      "state": {
       "children": [
        "IPY_MODEL_55eb94f57a8b4b1ea3243b0520194e2b",
        "IPY_MODEL_e23ebc56200f46988e4686ecc94bf702",
        "IPY_MODEL_9cde6b4c99a64221a880452b62465628"
       ],
       "layout": "IPY_MODEL_2ffba053f95346a3830c3b75d9c734a2"
      }
     },
     "8b59aa56c16b4f108a214e0b25845c81": {
      "model_module": "@jupyter-widgets/base",
      "model_module_version": "1.2.0",
      "model_name": "LayoutModel",
      "state": {
       "width": "20px"
      }
     },
     "8eaef6225a8748148e8dd1e48a5fe7b6": {
      "model_module": "@jupyter-widgets/controls",
      "model_module_version": "1.5.0",
      "model_name": "HTMLModel",
      "state": {
       "layout": "IPY_MODEL_7bcdab58df7649f3b4f13f610c85adda",
       "style": "IPY_MODEL_5b5dc07b51324207a02a159c44f9e822",
       "value": " 27053469107/27053469107 [2:32:41&lt;00:00, 106831031888.53 MiB/s]"
      }
     },
     "99bd835587d84ca696104f8e603801b6": {
      "model_module": "@jupyter-widgets/base",
      "model_module_version": "1.2.0",
      "model_name": "LayoutModel",
      "state": {}
     },
     "9c1f1396ddc8495584f31b693fd8cc4e": {
      "model_module": "@jupyter-widgets/controls",
      "model_module_version": "1.5.0",
      "model_name": "HTMLModel",
      "state": {
       "layout": "IPY_MODEL_3552b8f837754554ae46bf9845669b70",
       "style": "IPY_MODEL_ec6de613db6540678639cb7bdf6b388a",
       "value": "Generating train examples...: "
      }
     },
     "9cde6b4c99a64221a880452b62465628": {
      "model_module": "@jupyter-widgets/controls",
      "model_module_version": "1.5.0",
      "model_name": "HTMLModel",
      "state": {
       "layout": "IPY_MODEL_99bd835587d84ca696104f8e603801b6",
       "style": "IPY_MODEL_a2694ab25bad440389bba68d4385581f",
       "value": " 5/5 [2:32:41&lt;00:00, 2645.40s/ file]"
      }
     },
     "a2694ab25bad440389bba68d4385581f": {
      "model_module": "@jupyter-widgets/controls",
      "model_module_version": "1.5.0",
      "model_name": "DescriptionStyleModel",
      "state": {
       "description_width": ""
      }
     },
     "a9f82f705d8945c28ecb5515085fd41e": {
      "model_module": "@jupyter-widgets/base",
      "model_module_version": "1.2.0",
      "model_name": "LayoutModel",
      "state": {}
     },
     "adddfe31c8ca4f119135ad41a9a2b0c6": {
      "model_module": "@jupyter-widgets/base",
      "model_module_version": "1.2.0",
      "model_name": "LayoutModel",
      "state": {}
     },
     "bba8b1008ee042ada4d5a83d15694abe": {
      "model_module": "@jupyter-widgets/base",
      "model_module_version": "1.2.0",
      "model_name": "LayoutModel",
      "state": {}
     },
     "bc67e09772e5483e86950d94e56dc33e": {
      "model_module": "@jupyter-widgets/base",
      "model_module_version": "1.2.0",
      "model_name": "LayoutModel",
      "state": {}
     },
     "c10d789c2fac4d76b75a9526ff89fe01": {
      "model_module": "@jupyter-widgets/base",
      "model_module_version": "1.2.0",
      "model_name": "LayoutModel",
      "state": {}
     },
     "c5f9a4dca0724f39902df76c75be8558": {
      "model_module": "@jupyter-widgets/controls",
      "model_module_version": "1.5.0",
      "model_name": "HBoxModel",
      "state": {
       "children": [
        "IPY_MODEL_310aab5c98a54539b46e4181d7f2d7ad",
        "IPY_MODEL_fcd3fc82fe90419a8239848dceb98e67",
        "IPY_MODEL_8eaef6225a8748148e8dd1e48a5fe7b6"
       ],
       "layout": "IPY_MODEL_feb136040a8a499595b0bfc3e70c3724"
      }
     },
     "c90a18733aad48d18e0e712e27ceaa60": {
      "model_module": "@jupyter-widgets/controls",
      "model_module_version": "1.5.0",
      "model_name": "HBoxModel",
      "state": {
       "children": [
        "IPY_MODEL_9c1f1396ddc8495584f31b693fd8cc4e",
        "IPY_MODEL_6d26e192dd144583b3d45554827abc28",
        "IPY_MODEL_05e9522525b24119843599f66239e0b2"
       ],
       "layout": "IPY_MODEL_a9f82f705d8945c28ecb5515085fd41e"
      }
     },
     "cb2da82c345e4ce2ab199e9130d4917f": {
      "model_module": "@jupyter-widgets/base",
      "model_module_version": "1.2.0",
      "model_name": "LayoutModel",
      "state": {
       "width": "20px"
      }
     },
     "cc50ef134e924648894d7715b325fb57": {
      "model_module": "@jupyter-widgets/base",
      "model_module_version": "1.2.0",
      "model_name": "LayoutModel",
      "state": {}
     },
     "d7d217e5b7fb4d0b9ed856368a4ffce7": {
      "model_module": "@jupyter-widgets/base",
      "model_module_version": "1.2.0",
      "model_name": "LayoutModel",
      "state": {
       "width": "20px"
      }
     },
     "d8a3589033334c93852dfd4e8c5b3e31": {
      "model_module": "@jupyter-widgets/controls",
      "model_module_version": "1.5.0",
      "model_name": "DescriptionStyleModel",
      "state": {
       "description_width": ""
      }
     },
     "dbcaf94f10084b638d4e08fedfc6e43b": {
      "model_module": "@jupyter-widgets/base",
      "model_module_version": "1.2.0",
      "model_name": "LayoutModel",
      "state": {}
     },
     "de3064b17e114068ad026196dbb1b85a": {
      "model_module": "@jupyter-widgets/base",
      "model_module_version": "1.2.0",
      "model_name": "LayoutModel",
      "state": {}
     },
     "df87030a276042829bcee116098b13be": {
      "model_module": "@jupyter-widgets/controls",
      "model_module_version": "1.5.0",
      "model_name": "HTMLModel",
      "state": {
       "layout": "IPY_MODEL_cc50ef134e924648894d7715b325fb57",
       "style": "IPY_MODEL_d8a3589033334c93852dfd4e8c5b3e31",
       "value": "Dl Completed...: 100%"
      }
     },
     "e074fc045a8d474c8a3d92000299e645": {
      "model_module": "@jupyter-widgets/controls",
      "model_module_version": "1.5.0",
      "model_name": "ProgressStyleModel",
      "state": {
       "description_width": ""
      }
     },
     "e23ebc56200f46988e4686ecc94bf702": {
      "model_module": "@jupyter-widgets/controls",
      "model_module_version": "1.5.0",
      "model_name": "FloatProgressModel",
      "state": {
       "bar_style": "success",
       "layout": "IPY_MODEL_cb2da82c345e4ce2ab199e9130d4917f",
       "max": 1,
       "style": "IPY_MODEL_0d4d19854a4e4d77b2d2d2ff7f2a9e36",
       "value": 1
      }
     },
     "e51ac91885e74d6da279358d4a0638a3": {
      "model_module": "@jupyter-widgets/controls",
      "model_module_version": "1.5.0",
      "model_name": "HTMLModel",
      "state": {
       "layout": "IPY_MODEL_c10d789c2fac4d76b75a9526ff89fe01",
       "style": "IPY_MODEL_1596fbdb2a5043a98e343ba8228b1f53",
       "value": " 0/3 [00:00&lt;?, ? splits/s]"
      }
     },
     "e6e5781aaddd459ca73bd381df2e836a": {
      "model_module": "@jupyter-widgets/controls",
      "model_module_version": "1.5.0",
      "model_name": "HBoxModel",
      "state": {
       "children": [
        "IPY_MODEL_4c6e9ddb4bb34e19b203abd389311d52",
        "IPY_MODEL_53c3289b35024b3387e2f636c43618e9",
        "IPY_MODEL_e51ac91885e74d6da279358d4a0638a3"
       ],
       "layout": "IPY_MODEL_bba8b1008ee042ada4d5a83d15694abe"
      }
     },
     "e7e101b7ce7e42bea45116143cab332d": {
      "model_module": "@jupyter-widgets/base",
      "model_module_version": "1.2.0",
      "model_name": "LayoutModel",
      "state": {}
     },
     "ec6de613db6540678639cb7bdf6b388a": {
      "model_module": "@jupyter-widgets/controls",
      "model_module_version": "1.5.0",
      "model_name": "DescriptionStyleModel",
      "state": {
       "description_width": ""
      }
     },
     "ef94589a5dbd49a0b5e4300c2a9d1d26": {
      "model_module": "@jupyter-widgets/controls",
      "model_module_version": "1.5.0",
      "model_name": "HTMLModel",
      "state": {
       "layout": "IPY_MODEL_e7e101b7ce7e42bea45116143cab332d",
       "style": "IPY_MODEL_1f1f06aa61ab4d1a978674e42ca9e428",
       "value": " 5/5 [2:32:41&lt;00:00, 38.01 url/s]"
      }
     },
     "f3749792f7054e7a80b858edc997f8c1": {
      "model_module": "@jupyter-widgets/controls",
      "model_module_version": "1.5.0",
      "model_name": "ProgressStyleModel",
      "state": {
       "description_width": ""
      }
     },
     "fcd3fc82fe90419a8239848dceb98e67": {
      "model_module": "@jupyter-widgets/controls",
      "model_module_version": "1.5.0",
      "model_name": "FloatProgressModel",
      "state": {
       "bar_style": "success",
       "layout": "IPY_MODEL_8b59aa56c16b4f108a214e0b25845c81",
       "max": 1,
       "style": "IPY_MODEL_291f100c8be247a6b8ce119e81b1ddba",
       "value": 1
      }
     },
     "feb136040a8a499595b0bfc3e70c3724": {
      "model_module": "@jupyter-widgets/base",
      "model_module_version": "1.2.0",
      "model_name": "LayoutModel",
      "state": {}
     }
    },
    "version_major": 2,
    "version_minor": 0
   }
  }
 },
 "nbformat": 4,
 "nbformat_minor": 4
}
